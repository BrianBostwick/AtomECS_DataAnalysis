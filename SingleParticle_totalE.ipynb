{
 "cells": [
  {
   "cell_type": "code",
   "execution_count": 71,
   "id": "620d9d46-b630-4130-8d0a-57a3423b379c",
   "metadata": {},
   "outputs": [
    {
     "name": "stderr",
     "output_type": "stream",
     "text": [
      "C:\\Users\\Brian Bostwick\\AppData\\Local\\Temp\\ipykernel_19372\\2281188213.py:7: DeprecationWarning: Please use `uniform_filter1d` from the `scipy.ndimage` namespace, the `scipy.ndimage.filters` namespace is deprecated.\n",
      "  from scipy.ndimage.filters import uniform_filter1d\n"
     ]
    }
   ],
   "source": [
    "import DataImport_header as h\n",
    "import matplotlib.pyplot as plt\n",
    "import numpy as np\n",
    "import scipy as sp\n",
    "\n",
    "from scipy import stats\n",
    "from scipy.ndimage.filters import uniform_filter1d\n",
    "\n",
    "from scipy import constants\n",
    "from timeit import timeit\n",
    "\n",
    "import Analysis_header as an\n",
    "import scipy.fftpack\n",
    "import scipy.optimize"
   ]
  },
  {
   "cell_type": "code",
   "execution_count": 72,
   "id": "728f3995-16d8-433f-a41b-3bc8562b247a",
   "metadata": {},
   "outputs": [],
   "source": [
    "#contants\n",
    "e       = sp.constants.value(u'elementary charge')            #1.602176634e-19 C\n",
    "epsilon = sp.constants.value(u'vacuum electric permittivity') #8.8541878128e-12 F m^-1\n",
    "pi      = sp.pi                                               #3.141592653589793\n",
    "m_e     = sp.constants.value(u'electron mass')                #9.1093837015e-31 kg\n",
    "c       = sp.constants.value(u'speed of light in vacuum')     #299792458.0 m s^-1\n",
    "\n",
    "kg2amu = sp.constants.value(u'kilogram-atomic mass unit relationship') #6.0221407621e+26 u\n",
    "amu2kg = 1/kg2amu\n",
    "\n",
    "line = \"____________________________________________________\"\n",
    "bline= \"====================================================\"\n",
    "\n",
    "def trap_freq( position, PosData, dt, steps, period):\n",
    "    time = np.linspace(0, steps*dt, int(steps/period))\n",
    "    x  = an.reformat(PosData, position)\n",
    "    fit = an.fit_sin(time, x)\n",
    "    fit_curve = fit[\"fitfunc\"]\n",
    "    return fit[\"omega\"]\n",
    "    \n",
    "def total_energy(w, mass, x, v):\n",
    "    return 0.5 * mass * v**2 + 0.5 * mass * w**2 * x**2 "
   ]
  },
  {
   "cell_type": "code",
   "execution_count": 73,
   "id": "7fc19033-42d9-4c7b-b9ca-99adec3a9d5f",
   "metadata": {},
   "outputs": [],
   "source": [
    "dt    = 1.0e-7      #meters\n",
    "steps = 200000\n",
    "period = 1         #interval for taking data\n",
    "mass  = 87*1.66e-27 #amu"
   ]
  },
  {
   "cell_type": "code",
   "execution_count": 74,
   "id": "eb9058a3-c9cb-4e7e-8660-622e58ac5867",
   "metadata": {},
   "outputs": [],
   "source": [
    "pos  = \"/pos\"\n",
    "vel  = \"/vel\"\n",
    "#macbook\n",
    "# filePos = \"/Users/brianbostwick/Mirror/Code/AtomECS/\" + file_num + \".txt\"\n",
    "\n",
    "#workcomupterv\n",
    "filePos = \"../AtomECS\" + pos + \".txt\"\n",
    "fileVel = \"../AtomECS\" + vel + \".txt\"\n",
    "\n",
    "PosData = an.get_particle_data( filePos )\n",
    "VelData = an.get_particle_data( fileVel )"
   ]
  },
  {
   "cell_type": "code",
   "execution_count": 75,
   "id": "d3267e32-9b0e-4e68-b633-41927629525a",
   "metadata": {},
   "outputs": [
    {
     "name": "stdout",
     "output_type": "stream",
     "text": [
      "trap freq wx, wy, wz = (159304.7964677272, 159304.7964677272, 635.8419300295882)\n"
     ]
    }
   ],
   "source": [
    "#getting trap frequecny\n",
    "wx = trap_freq( 0, PosData[2], dt, steps, period)\n",
    "wy = trap_freq( 1, PosData[2], dt, steps, period)\n",
    "wz = trap_freq( 2, PosData[2], dt, steps, period)\n",
    "\n",
    "print(f\"trap freq wx, wy, wz = {wx, wy, wz}\")"
   ]
  },
  {
   "cell_type": "code",
   "execution_count": 76,
   "id": "c1a41a1e-7fe5-4d9e-94f3-a76df48cfebb",
   "metadata": {
    "tags": []
   },
   "outputs": [],
   "source": [
    "#getting velocity\n",
    "velocity = [an.get_particle_velocity(VelData[2][i][0]) for i in range(len(VelData[2]))]\n",
    "\n",
    "vx = [ VelData[2][i][0][0] for i in range(len(VelData[2])) ]\n",
    "vy = [ VelData[2][i][0][1] for i in range(len(VelData[2])) ]\n",
    "vz = [ VelData[2][i][0][2] for i in range(len(VelData[2])) ]"
   ]
  },
  {
   "cell_type": "code",
   "execution_count": 77,
   "id": "77cfc5a4-9ab4-467e-afe9-4703f33c992f",
   "metadata": {},
   "outputs": [],
   "source": [
    "#getting positions; all position ar taken rel. to the beam direction.\n",
    "x  = an.reformat(PosData[2], 0)\n",
    "y  = an.reformat(PosData[2], 1)\n",
    "z  = an.reformat(PosData[2], 2)"
   ]
  },
  {
   "cell_type": "code",
   "execution_count": 78,
   "id": "07734202-3c05-43eb-a68d-1be794cc432c",
   "metadata": {},
   "outputs": [],
   "source": [
    "E_x = [ total_energy(wx, mass, x[i], vx[i]) for i in range(len(x)) ]\n",
    "E_y = [ total_energy(wy, mass, y[i], vy[i]) for i in range(len(x)) ]\n",
    "E_z = [ total_energy(wz, mass, z[i], vz[i]) for i in range(len(x)) ]\n",
    "\n",
    "# plt.plot(E_x[:1000], \"-\")\n",
    "# plt.show()\n",
    "# plt.plot(E_y[:1000], \"-\")\n",
    "# plt.show()\n",
    "# plt.plot(E_z[:], \"-\")\n",
    "# plt.show()"
   ]
  },
  {
   "cell_type": "code",
   "execution_count": 79,
   "id": "33424c2b-aa39-4148-8c55-19b225260909",
   "metadata": {},
   "outputs": [],
   "source": [
    "#getting total energy\n",
    "energy = [ E_x[i] + E_y[i] + E_z[i] for i in range(len(E_x)) ]"
   ]
  },
  {
   "cell_type": "code",
   "execution_count": 80,
   "id": "bf2a5f52-7156-4703-863d-b90e2fd29239",
   "metadata": {},
   "outputs": [
    {
     "data": {
      "image/png": "[encoded data removed]",
      "text/plain": [
       "<Figure size 432x288 with 1 Axes>"
      ]
     },
     "metadata": {
      "needs_background": "light"
     },
     "output_type": "display_data"
    },
    {
     "name": "stdout",
     "output_type": "stream",
     "text": [
      "Percent fluctiation = 3.19 %\n"
     ]
    }
   ],
   "source": [
    "plt.plot(energy[:1000], \"-\")\n",
    "plt.title(\"  Total energy, 1 atom in dipole_trap AtomECS\")\n",
    "plt.xlabel(\"time [ s ]\")\n",
    "plt.ylabel(\"Energy [ J ]\")\n",
    "plt.show()\n",
    "\n",
    "print(f\"Percent fluctiation = { round( 100 * (max(energy) - min(energy)) / np.mean(energy), 2 )} %\")"
   ]
  },
  {
   "cell_type": "markdown",
   "id": "030e00ac-2199-4bea-93d7-596526271793",
   "metadata": {},
   "source": [
    "There seems to be a 3.2% flucutaion in atomECS total energy of a single particle in a dipole trap. This could be due to the integrator being used? "
   ]
  },
  {
   "cell_type": "code",
   "execution_count": null,
   "id": "0cfce413-5bc3-4d3e-b829-1bbbf7a57e60",
   "metadata": {},
   "outputs": [],
   "source": []
  }
 ],
 "metadata": {
  "kernelspec": {
   "display_name": "Python 3 (ipykernel)",
   "language": "python",
   "name": "python3"
  },
  "language_info": {
   "codemirror_mode": {
    "name": "ipython",
    "version": 3
   },
   "file_extension": ".py",
   "mimetype": "text/x-python",
   "name": "python",
   "nbconvert_exporter": "python",
   "pygments_lexer": "ipython3",
   "version": "3.10.1"
  }
 },
 "nbformat": 4,
 "nbformat_minor": 5
}
