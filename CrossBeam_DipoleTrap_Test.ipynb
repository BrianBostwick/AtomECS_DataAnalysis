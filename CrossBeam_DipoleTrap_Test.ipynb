{
 "cells": [
  {
   "cell_type": "code",
   "execution_count": 125,
   "id": "55dde76c-2acf-4d2f-9d8f-ad1bd398f74a",
   "metadata": {},
   "outputs": [
    {
     "name": "stderr",
     "output_type": "stream",
     "text": [
      "C:\\Users\\Brian Bostwick\\AppData\\Local\\Temp\\ipykernel_4988\\2281188213.py:7: DeprecationWarning: Please use `uniform_filter1d` from the `scipy.ndimage` namespace, the `scipy.ndimage.filters` namespace is deprecated.\n",
      "  from scipy.ndimage.filters import uniform_filter1d\n"
     ]
    }
   ],
   "source": [
    "import DataImport_header as h\n",
    "import matplotlib.pyplot as plt\n",
    "import numpy as np\n",
    "import scipy as sp\n",
    "\n",
    "from scipy import stats\n",
    "from scipy.ndimage.filters import uniform_filter1d\n",
    "\n",
    "from scipy import constants\n",
    "from timeit import timeit\n",
    "\n",
    "import Analysis_header as an\n",
    "import scipy.fftpack\n",
    "import scipy.optimize"
   ]
  },
  {
   "cell_type": "code",
   "execution_count": 126,
   "id": "f9387f15-48e4-41a6-9364-48c8f5e687d8",
   "metadata": {},
   "outputs": [],
   "source": [
    "#contants\n",
    "e       = sp.constants.value(u'elementary charge')            #1.602176634e-19 C\n",
    "epsilon = sp.constants.value(u'vacuum electric permittivity') #8.8541878128e-12 F m^-1\n",
    "pi      = sp.pi                                               #3.141592653589793\n",
    "m_e     = sp.constants.value(u'electron mass')                #9.1093837015e-31 kg\n",
    "c       = sp.constants.value(u'speed of light in vacuum')     #299792458.0 m s^-1\n",
    "\n",
    "kg2amu = sp.constants.value(u'kilogram-atomic mass unit relationship') #6.0221407621e+26 u\n",
    "amu2kg = 1/kg2amu\n",
    "\n",
    "line = \"____________________________________________________\"\n",
    "bline= \"====================================================\"\n",
    "\n",
    "def trap_freq( position, PosData, dt, steps, period):\n",
    "    time = np.linspace(0, steps*dt, int(steps/period))\n",
    "    x  = an.reformat(PosData, position)\n",
    "    fit = an.fit_sin(time, x)\n",
    "    fit_curve = fit[\"fitfunc\"]\n",
    "    return fit[\"omega\"]\n",
    "    \n",
    "def total_energy(w, mass, x, v):\n",
    "    return 0.5 * mass * v**2 + 0.5 * mass * w**2 * x**2 "
   ]
  },
  {
   "cell_type": "code",
   "execution_count": 127,
   "id": "0dac5c5a-17e6-476f-8095-a3131d9cac4c",
   "metadata": {},
   "outputs": [],
   "source": [
    "dt    = 1.0e-7      #meters\n",
    "steps = 200000\n",
    "period = 1         #interval for taking data\n",
    "mass  = 87*1.66e-27 #amu\n",
    "\n",
    "pos  = \"/pos\"\n",
    "vel  = \"/vel\"\n",
    "\n",
    "#workcomupterv\n",
    "filePos = \"../evaperative_cooling\" + pos + \".txt\"\n",
    "fileVel = \"../evaperative_cooling\" + vel + \".txt\"\n",
    "\n",
    "PosData = an.get_particle_data( filePos )\n",
    "VelData = an.get_particle_data( fileVel )"
   ]
  },
  {
   "cell_type": "code",
   "execution_count": 128,
   "id": "9d9a72ff-6d26-43ab-8036-8597e8de1002",
   "metadata": {},
   "outputs": [
    {
     "name": "stdout",
     "output_type": "stream",
     "text": [
      "trap freq wx, wy, wz = (42148.03793359302, 42148.03793359302, 59605.89620017899)\n"
     ]
    }
   ],
   "source": [
    "#getting trap frequecny\n",
    "wx = trap_freq( 0, PosData[2], dt, steps, period)\n",
    "wy = trap_freq( 1, PosData[2], dt, steps, period)\n",
    "wz = trap_freq( 2, PosData[2], dt, steps, period)\n",
    "\n",
    "print(f\"trap freq wx, wy, wz = {wx, wy, wz}\")"
   ]
  },
  {
   "cell_type": "code",
   "execution_count": 129,
   "id": "b9f54ee4-211c-4432-9d15-a3d291519cb0",
   "metadata": {},
   "outputs": [],
   "source": [
    "#getting velocity\n",
    "velocity = [an.get_particle_velocity(VelData[2][i][0]) for i in range(len(VelData[2]))]\n",
    "\n",
    "vx = [ VelData[2][i][0][0] for i in range(len(VelData[2])) ]\n",
    "vy = [ VelData[2][i][0][1] for i in range(len(VelData[2])) ]\n",
    "vz = [ VelData[2][i][0][2] for i in range(len(VelData[2])) ]\n",
    "\n",
    "#getting positions; all position ar taken rel. to the beam direction.\n",
    "x  = an.reformat(PosData[2], 0)\n",
    "y  = an.reformat(PosData[2], 1)\n",
    "z  = an.reformat(PosData[2], 2)\n",
    "\n",
    "E_x = [ total_energy(wx, mass, x[i], vx[i]) for i in range(len(x)) ]\n",
    "E_y = [ total_energy(wy, mass, y[i], vy[i]) for i in range(len(x)) ]\n",
    "E_z = [ total_energy(wz, mass, z[i], vz[i]) for i in range(len(x)) ]\n",
    "\n",
    "#getting total energy\n",
    "energy = [ E_x[i] + E_y[i] + E_z[i] for i in range(len(E_x)) ]"
   ]
  },
  {
   "cell_type": "code",
   "execution_count": 132,
   "id": "12c993ec-0960-4085-80ac-5e767e16fa42",
   "metadata": {},
   "outputs": [
    {
     "data": {
      "image/png": "[encoded data removed]",
      "text/plain": [
       "<Figure size 432x288 with 1 Axes>"
      ]
     },
     "metadata": {
      "needs_background": "light"
     },
     "output_type": "display_data"
    },
    {
     "name": "stdout",
     "output_type": "stream",
     "text": [
      "Percent fluctiation = 1.01752 %\n"
     ]
    },
    {
     "data": {
      "image/png": "[encoded data removed]",
      "text/plain": [
       "<Figure size 432x288 with 1 Axes>"
      ]
     },
     "metadata": {
      "needs_background": "light"
     },
     "output_type": "display_data"
    },
    {
     "name": "stdout",
     "output_type": "stream",
     "text": [
      "E = 5.131095018143715e-30 J\n"
     ]
    }
   ],
   "source": [
    "plt.plot(energy[:1000], \"-\")\n",
    "plt.title(\" Total energy, 1 atom in cross dipole_trap AtomECS \", y = 1.09)\n",
    "plt.xlabel(\"time [ s ]\")\n",
    "plt.ylabel(\"Energy [ J ]\")\n",
    "plt.show()\n",
    "\n",
    "print(f\"Percent fluctiation = { round( 100 * (max(energy) - min(energy)) / np.mean(energy), 5 )} %\")\n",
    "\n",
    "plt.plot(energy[:10000], \"-\")\n",
    "plt.title(\" Total energy, 1 atom in cross dipole_trap AtomECS \", y = 1.09)\n",
    "plt.xlabel(\"time [ s ]\")\n",
    "plt.ylabel(\"Energy [ J ]\")\n",
    "plt.ylim(1.82e-26,1.83e-26)\n",
    "plt.show()\n",
    "\n",
    "print(f\"E = {np.mean(energy)} J\")"
   ]
  },
  {
   "cell_type": "code",
   "execution_count": null,
   "id": "0097d7ad-89a8-45cd-bccd-fe23d45d0955",
   "metadata": {},
   "outputs": [],
   "source": [
    "\n",
    "Percent fluctiation = 1.01752 %\n",
    "\n",
    "E = 5.131095018143715e-30 J"
   ]
  },
  {
   "cell_type": "code",
   "execution_count": null,
   "id": "6de4d4de-1a2f-4cab-b35e-8d1a8ff86d80",
   "metadata": {},
   "outputs": [],
   "source": [
    "\n",
    "Percent fluctiation = 0.84295 %\n",
    "\n",
    "E = 2.5655446135920968e-30 J"
   ]
  }
 ],
 "metadata": {
  "kernelspec": {
   "display_name": "Python 3 (ipykernel)",
   "language": "python",
   "name": "python3"
  },
  "language_info": {
   "codemirror_mode": {
    "name": "ipython",
    "version": 3
   },
   "file_extension": ".py",
   "mimetype": "text/x-python",
   "name": "python",
   "nbconvert_exporter": "python",
   "pygments_lexer": "ipython3",
   "version": "3.10.1"
  }
 },
 "nbformat": 4,
 "nbformat_minor": 5
}
